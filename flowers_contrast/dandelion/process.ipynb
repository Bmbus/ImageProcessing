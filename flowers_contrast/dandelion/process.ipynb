{
 "nbformat": 4,
 "nbformat_minor": 2,
 "metadata": {
  "language_info": {
   "name": "python",
   "codemirror_mode": {
    "name": "ipython",
    "version": 3
   },
   "version": "3.8.1-final"
  },
  "orig_nbformat": 2,
  "file_extension": ".py",
  "mimetype": "text/x-python",
  "name": "python",
  "npconvert_exporter": "python",
  "pygments_lexer": "ipython3",
  "version": 3,
  "kernelspec": {
   "name": "python38132bitbf758c25272442f9baacff9316fc84e6",
   "display_name": "Python 3.8.1 32-bit"
  }
 },
 "cells": [
  {
   "cell_type": "code",
   "execution_count": 24,
   "metadata": {},
   "outputs": [],
   "source": [
    "#IMPORT PIL\n",
    "from PIL import Image"
   ]
  },
  {
   "cell_type": "code",
   "execution_count": 25,
   "metadata": {},
   "outputs": [],
   "source": [
    "# GET IMAGE AND ITS DATA\n",
    "img_url = \"input.jpg\"\n",
    "img = Image.open(img_url)\n",
    "img.convert(\"RGB\")\n",
    "pixels = img.load()\n",
    "width, height = img.size"
   ]
  },
  {
   "cell_type": "code",
   "execution_count": 28,
   "metadata": {},
   "outputs": [],
   "source": [
    "def process():\n",
    "    # SET PIXELS TO GREYSCALE, EXCEPT THE YELLOW ONES\n",
    "    yellow_pixels = []\n",
    "    for x in range(width):\n",
    "       for y in range(height):\n",
    "           r,g,b = pixels[x, y]\n",
    "           # SEARCH FOR YELLOW COLORS\n",
    "           if r>=200 and g >= 135 and b<140:\n",
    "               yellow_pixels.append({\"color\": (r,g,b), \"size\": (x,y)})\n",
    "                \n",
    "    greyscale_img = img.convert(\"1\")\n",
    "    new_img = Image.new(\"RGB\", greyscale_img.size)\n",
    "    new_img.paste(greyscale_img)\n",
    " \n",
    "    for data in yellow_pixels:\n",
    "        new_img.putpixel(data[\"size\"], data[\"color\"])\n",
    "   \n",
    "    new_img.save(\"output.jpg\")\n",
    "    new_img.show()"
   ]
  },
  {
   "cell_type": "code",
   "execution_count": 29,
   "metadata": {},
   "outputs": [],
   "source": [
    "process()"
   ]
  }
 ]
}